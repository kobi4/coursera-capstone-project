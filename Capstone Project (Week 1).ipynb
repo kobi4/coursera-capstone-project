{
    "cells": [
        {
            "cell_type": "markdown",
            "metadata": {
                "collapsed": true
            },
            "source": "# IBM Data Science Capstone: Car Accident Severity Report \u2013 Week 1"
        },
        {
            "cell_type": "markdown",
            "metadata": {},
            "source": "### Table of Content: \n\n01.\tIntroduction\n\n     01.01.\t Business Problem\n\n     01.02.\t Target Audience / Stakeholders\n     \n\n02.\tData\n\n    02.01.\t Data Source\n\n    02.02.\t Data Understanding\n\n    02.03.\tData Loading\n\n    02.04.\t Data Pre-Processing\n\n            02.04.1.\tRemoving unnecessary columns\n\n            02.04.2.\tRemoving records with empty data\n\n            02.04.3.\tLabel Encoding \n\n            02.04.4.\tBalancing the data\n\n            02.04.5.\tDefine the Feature Set\n\n            02.04.6.\tNormalizing the data\n\n            02.04.7.\tSplit the data (into: Train/Test Sets)\n"
        },
        {
            "cell_type": "markdown",
            "metadata": {},
            "source": "## 01.\t Introduction\n\nIn this section I intend to discuss the business problem (using a scenario description), who would be interested in the project (target audience / stakeholders) and the business understanding of what algorithm needs (in my opinion) to be developed.\n"
        },
        {
            "cell_type": "markdown",
            "metadata": {},
            "source": "### 01.01\t Business Problem\n\nTo better understand the problem and its background, let me start with the following scenario description (as described in the introduction video of the class): \n\n    Say you are driving to another city for work or to visit some friends.\n\n    It is rainy and windy, and on the way, you come across a terrible traffic jam on the other side of the highway. Long lines of cars barely moving. \n\n    As you keep driving, police cars start appearing from afar shutting down the highway. \n\n    Oh, it is an accident and there is a helicopter transporting the ones involved in the crash to the nearest hospital. \n\n    They must be in critical condition for all of this to be happening. \n\n    Now, wouldn't it be great if there is something in place that could warn you, \n\n    given the weather and the road conditions about the possibility of you getting into a car accident and how severe it would be, \n\n    so that you would drive more carefully or even change your travel if you are able to.\n\n\nSo, the problem we have at hand here is: **How to reduce the frequency of car collisions in a community.**\n"
        },
        {
            "cell_type": "markdown",
            "metadata": {},
            "source": "### 01.02. Target Audience / Stakeholders\n\nData science problems always target an audience and are meant to help a group of stakeholders solve a problem. Let me describe here the target audience to the problem solution and why they would care about it.\nRecall that our problem is how to reduce the frequency of car collisions in a community. Let us think then who the Target Audience / Stakeholders are here:\n\n-\tFirst and foremost, it is the community itself. The drivers who want to avoid those kind of accidents (both in participating in such accidents and in avoiding the long lines and delays when such accidents occur on their route ahead). Very often than not, we use GPS software like Waze which instruct us to change our normal route due to an accident ahead and that alone causes delays in our drive time. What if we could minimize those accidents in the first place.\n\n\n-\tThe traffic-police. The less traffic accidents there are, the more availability the traffic policemen and policewomen are for their ongoing day to day work. Also, with long lines of cars behind such accident, it is more difficult for the traffic police car to reach the accident scene.\n\n\n-\tTraffic Command and Control Center. Especially in large urban cities, the more accidents, the more \u201cheadache\u201d for the people at the Command and Control Center to resolve the traffic jams, handle re-routes and restore the normal order.\n\n\n-\tHospitals and Ambulance teams. Obviously, as traffic accidents rate lowers, also the number of people hurt in those accidents is decreased. So there is less need in sending ambulances/helicopters to the problematic locations of the accidents and there is reduction in the need to treat people in hospitals allowing the medical professionals to provide more attention and care to non-accidents related patients.\n\n\n-\tInsurance companies. This is another given. The less accidents there are, the less payments the insurance companies need to provide both on car damages and people\u2019s health related damages (including life insurance in cases of deaths).\n\n\n-\tAnother beneficiate for the solution to the problem is the various workplaces of the people that wait in the long accidents lines on their way to work. Had there been the accidents, they could have been already working and produce profit to the companies they work at. \n"
        },
        {
            "cell_type": "markdown",
            "metadata": {},
            "source": "## 02.\t Data\n\nIn this section I intend to describe the data that I will be using, its source, how it will be used to solve the problem and the pre-processing actions needed on it before it can become useful. The explanations will be accompanied with examples to make the points I will be making clearer.\n"
        },
        {
            "cell_type": "markdown",
            "metadata": {},
            "source": "### 02.01. Data Source\n\nThe Data Source that I was using was in essence the same data source that the students of this class were provided with in the project description: \n\n    https://s3.us.cloud-object-storage.appdomain.cloud/cf-courses-data/CognitiveClass/DP0701EN/version-2/Data-Collisions.csv\n"
        },
        {
            "cell_type": "markdown",
            "metadata": {},
            "source": "### 02.02. Data Understanding\n\nTo better understand the data, I performed the following tasks: \n\na.\tObserve the csv file that was provided and the meta data file that describes it\n\n(can be located under: https://s3.us.cloud-object-storage.appdomain.cloud/cf-courses-data/CognitiveClass/DP0701EN/version-2/Metadata.pdf )\n\nb.\tDecide on the Predictor or Target Variable. It did not take long to understand that this should be the \u2018SEVERITYCODE\u2019 field because it is used measure the severity of an accident. According to the Meta Data file description, there are several types of Severity Codes: \n- 0 (Unknown)\n<font color=green>\n- 1 (Property Damage Only Collision)\n- 2 (Injury Collision)\n</font>\n- 2b (Serious Injury)\n- 3 (Fatality)\n\nHowever, in the csv file provided, there are only records with SeverityCode of either 1 or 2. So, I decided to check how the attributes mentioned later below (item d) can predict a severity code of either 1 or 2.\n\nc.\tDecide which fields are irrelevant. When browsing through the csv data, I decided that there were quite a few columns that I would not use for this model. Below are those columns with the reasoning: \n\u2022\t\u2018SEVERITYCODE\u2019 \u2013 This column is a duplicate and appears twice, it will be used only once.\n\u2022\t\u2018X\u2019, \u2018Y\u2019, \u2018OBJECTID\u2019, \u2018INCKEY\u2019, \u2018COLDETKEY\u2019, \u2018REPORTNO\u2019, \u2018STATUS\u2019, \u2018INTKEY\u2019, \u2018LOCATION\u2019, \u2018EXCEPTRSNCODE\u2019, \u2018EXCEPTRSNDESC\u2019, \u2018SEVERITYDESC\u2019, \u2018INCDATE\u2019, \u2018INCDTTM\u2019, \u2018SDOT_COLCODE\u2019, \u2018SDOT_COLDESC\u2019, \u2018SDOTCOLNUM\u2019, \u2018ST_COLCODE\u2019, \u2018ST_COLDESC\u2019, \u2018SEGLANEKEY\u2019, \u2018CROSSWALKKEY\u2019\n\nThe reason for not using them is that they do not provide any value to the classifications.\n\u2022\t\u2018INATTENTIONIND\u2019, \u2018PEDROWNOTGRNT\u2019, \u2018SPEEDING\u2019\n\nWhile those three columns could provide valuable data to the algorithm (\u201cWhether or not collision was due to inattention (Y/N)\u201d, \u201cWhether or not the pedestrian right of way was not granted. (Y/N)\u201d and \u201cWhether or not speeding was a factor in the collision. (Y/N)\u201d (respectively)), I could not use them because in the csv data the values they had were either blank (empty value) or \u2018Y\u2019 and I could not tell whether the empty value represents a \u2018N\u2019 value or a missing data.\n\nd.\tSo, by the process of elimination, I was left with the relevant fields which became the attributes listed below that weigh the severity of an accident (either \u20181\u2019 or \u20182\u2019). In other words, to reduce the frequency of car collisions in a community, an algorithm must be developed to predict the severity of an accident given:\n\n-\t'ADDRTYPE' - The collision address type (Possible values: \u2018Alley\u2019, \u2018Block\u2019, \u2018Intersection\u2019)\n-\t'COLLISIONTYPE' \u2013 Collision Type (Possible values: 'Angles', 'Cycles', \n'Head On', 'Left Turn', 'Parked Car', 'Pedestrian', 'Rear Ended', 'Right Turn', 'Sideswipe')\n-\t'PERSONCOUNT' - The total number of people involved in the collision\n-\t'PEDCOUNT' - The number of pedestrians involved in the collision\n-\t'PEDCYLCOUNT' - The number of bicycles involved in the collision\n-\t'VEHCOUNT' - The number of vehicles involved in the collision\n-\t'JUNCTIONTYPE' - Category of junction at which collision took place (Possible values: 'At Intersection (but not related to intersection)', 'At Intersection (intersection related)', 'Driveway Junction', 'Mid-Block (but intersection related)', 'Mid-Block (not related to intersection)', 'Ramp Junction')\n-\t'UNDERINFL' - Whether a driver involved was under the influence of drugs or alcohol (Possible values: \u20180\u2019, \u20181\u2019, \u2018Y\u2019, \u2018N\u2019)\n-\t'WEATHER' - The weather conditions during the time of the collision (Possible values: 'Blowing Sand/Dirt', 'Clear', 'Fog/Smog/Smoke', 'Overcast', 'Partly Cloudy', 'Raining',\n'Severe Crosswind', 'Sleet/Hail/Freezing Rain', 'Snowing')\n-\t'ROADCOND' - The condition of the road during the collision (Possible values: 'Dry', 'Ice', 'Oil', 'Sand/Mud/Dirt', 'Snow/Slush', 'Standing Water', 'Wet')\n-\t'LIGHTCOND' - The light conditions during the collision (Possible values: 'Dark - No Street Lights', 'Dark - Street Lights Off', 'Dark - Street Lights On', 'Dawn', 'Daylight', 'Dusk')\n-\t'HITPARKEDCAR' - Whether the collision involved hitting a parked car (Possible values: \u2018Y\u2019, \u2018N\u2019)\n"
        },
        {
            "cell_type": "markdown",
            "metadata": {},
            "source": "### 02.03 Data Loading\n\nBefore we start dealing with the data, let\u2019s import the necessary libraries/packages which will be needed for this project: \n"
        },
        {
            "cell_type": "code",
            "execution_count": 74,
            "metadata": {},
            "outputs": [],
            "source": "import itertools\nimport matplotlib.pyplot as plt\nimport numpy as np\nimport pandas as pd\nimport urllib.request\nfrom sklearn import metrics\nfrom sklearn import preprocessing\nfrom sklearn import svm\nfrom sklearn.linear_model import LogisticRegression\nfrom sklearn.metrics import confusion_matrix\nfrom sklearn.metrics import f1_score\nfrom sklearn.metrics import jaccard_similarity_score\nfrom sklearn.metrics import log_loss\nfrom sklearn.model_selection import train_test_split\nfrom sklearn.neighbors import KNeighborsClassifier\nfrom sklearn.tree import DecisionTreeClassifier\nfrom sklearn.utils import resample"
        },
        {
            "cell_type": "markdown",
            "metadata": {},
            "source": "Let us download the data from the data source: "
        },
        {
            "cell_type": "code",
            "execution_count": 75,
            "metadata": {},
            "outputs": [
                {
                    "name": "stdout",
                    "output_type": "stream",
                    "text": "--2020-10-03 13:19:22--  https://s3.us.cloud-object-storage.appdomain.cloud/cf-courses-data/CognitiveClass/DP0701EN/version-2/Data-Collisions.csv\nResolving s3.us.cloud-object-storage.appdomain.cloud (s3.us.cloud-object-storage.appdomain.cloud)... 67.228.254.196\nConnecting to s3.us.cloud-object-storage.appdomain.cloud (s3.us.cloud-object-storage.appdomain.cloud)|67.228.254.196|:443... connected.\nHTTP request sent, awaiting response... 200 OK\nLength: 73917638 (70M) [text/csv]\nSaving to: \u2018Data-Collisions.csv\u2019\n\n100%[======================================>] 73,917,638  35.9MB/s   in 2.0s   \n\n2020-10-03 13:19:25 (35.9 MB/s) - \u2018Data-Collisions.csv\u2019 saved [73917638/73917638]\n\n"
                }
            ],
            "source": "# Method-1: Jupyter Notebook Compatible\n!wget -O Data-Collisions.csv https://s3.us.cloud-object-storage.appdomain.cloud/cf-courses-data/CognitiveClass/DP0701EN/version-2/Data-Collisions.csv\n\n# Method-2: Non-Jupyter Notebook Compatible\n# url = 'https://s3.us.cloud-object-storage.appdomain.cloud/cf-courses-data/CognitiveClass/DP0701EN/version-2/Data-Collisions.csv'\n# with urllib.request.urlopen(url) as testfile, open('Data-Collisions.csv', 'w', encoding='utf-8') as f:\n#     f.write(testfile.read().decode())"
        },
        {
            "cell_type": "markdown",
            "metadata": {},
            "source": "Enter the csv data into a data-frame: "
        },
        {
            "cell_type": "code",
            "execution_count": 76,
            "metadata": {},
            "outputs": [],
            "source": "df = pd.read_csv(\"Data-Collisions.csv\", delimiter=\",\", low_memory=False)"
        },
        {
            "cell_type": "markdown",
            "metadata": {},
            "source": "Observe the dataframe head: "
        },
        {
            "cell_type": "code",
            "execution_count": 77,
            "metadata": {},
            "outputs": [
                {
                    "data": {
                        "text/html": "<div>\n<style scoped>\n    .dataframe tbody tr th:only-of-type {\n        vertical-align: middle;\n    }\n\n    .dataframe tbody tr th {\n        vertical-align: top;\n    }\n\n    .dataframe thead th {\n        text-align: right;\n    }\n</style>\n<table border=\"1\" class=\"dataframe\">\n  <thead>\n    <tr style=\"text-align: right;\">\n      <th></th>\n      <th>SEVERITYCODE</th>\n      <th>X</th>\n      <th>Y</th>\n      <th>OBJECTID</th>\n      <th>INCKEY</th>\n      <th>COLDETKEY</th>\n      <th>REPORTNO</th>\n      <th>STATUS</th>\n      <th>ADDRTYPE</th>\n      <th>INTKEY</th>\n      <th>...</th>\n      <th>ROADCOND</th>\n      <th>LIGHTCOND</th>\n      <th>PEDROWNOTGRNT</th>\n      <th>SDOTCOLNUM</th>\n      <th>SPEEDING</th>\n      <th>ST_COLCODE</th>\n      <th>ST_COLDESC</th>\n      <th>SEGLANEKEY</th>\n      <th>CROSSWALKKEY</th>\n      <th>HITPARKEDCAR</th>\n    </tr>\n  </thead>\n  <tbody>\n    <tr>\n      <th>0</th>\n      <td>2</td>\n      <td>-122.323148</td>\n      <td>47.703140</td>\n      <td>1</td>\n      <td>1307</td>\n      <td>1307</td>\n      <td>3502005</td>\n      <td>Matched</td>\n      <td>Intersection</td>\n      <td>37475.0</td>\n      <td>...</td>\n      <td>Wet</td>\n      <td>Daylight</td>\n      <td>NaN</td>\n      <td>NaN</td>\n      <td>NaN</td>\n      <td>10</td>\n      <td>Entering at angle</td>\n      <td>0</td>\n      <td>0</td>\n      <td>N</td>\n    </tr>\n    <tr>\n      <th>1</th>\n      <td>1</td>\n      <td>-122.347294</td>\n      <td>47.647172</td>\n      <td>2</td>\n      <td>52200</td>\n      <td>52200</td>\n      <td>2607959</td>\n      <td>Matched</td>\n      <td>Block</td>\n      <td>NaN</td>\n      <td>...</td>\n      <td>Wet</td>\n      <td>Dark - Street Lights On</td>\n      <td>NaN</td>\n      <td>6354039.0</td>\n      <td>NaN</td>\n      <td>11</td>\n      <td>From same direction - both going straight - bo...</td>\n      <td>0</td>\n      <td>0</td>\n      <td>N</td>\n    </tr>\n    <tr>\n      <th>2</th>\n      <td>1</td>\n      <td>-122.334540</td>\n      <td>47.607871</td>\n      <td>3</td>\n      <td>26700</td>\n      <td>26700</td>\n      <td>1482393</td>\n      <td>Matched</td>\n      <td>Block</td>\n      <td>NaN</td>\n      <td>...</td>\n      <td>Dry</td>\n      <td>Daylight</td>\n      <td>NaN</td>\n      <td>4323031.0</td>\n      <td>NaN</td>\n      <td>32</td>\n      <td>One parked--one moving</td>\n      <td>0</td>\n      <td>0</td>\n      <td>N</td>\n    </tr>\n    <tr>\n      <th>3</th>\n      <td>1</td>\n      <td>-122.334803</td>\n      <td>47.604803</td>\n      <td>4</td>\n      <td>1144</td>\n      <td>1144</td>\n      <td>3503937</td>\n      <td>Matched</td>\n      <td>Block</td>\n      <td>NaN</td>\n      <td>...</td>\n      <td>Dry</td>\n      <td>Daylight</td>\n      <td>NaN</td>\n      <td>NaN</td>\n      <td>NaN</td>\n      <td>23</td>\n      <td>From same direction - all others</td>\n      <td>0</td>\n      <td>0</td>\n      <td>N</td>\n    </tr>\n    <tr>\n      <th>4</th>\n      <td>2</td>\n      <td>-122.306426</td>\n      <td>47.545739</td>\n      <td>5</td>\n      <td>17700</td>\n      <td>17700</td>\n      <td>1807429</td>\n      <td>Matched</td>\n      <td>Intersection</td>\n      <td>34387.0</td>\n      <td>...</td>\n      <td>Wet</td>\n      <td>Daylight</td>\n      <td>NaN</td>\n      <td>4028032.0</td>\n      <td>NaN</td>\n      <td>10</td>\n      <td>Entering at angle</td>\n      <td>0</td>\n      <td>0</td>\n      <td>N</td>\n    </tr>\n  </tbody>\n</table>\n<p>5 rows \u00d7 38 columns</p>\n</div>",
                        "text/plain": "   SEVERITYCODE           X          Y  OBJECTID  INCKEY  COLDETKEY REPORTNO  \\\n0             2 -122.323148  47.703140         1    1307       1307  3502005   \n1             1 -122.347294  47.647172         2   52200      52200  2607959   \n2             1 -122.334540  47.607871         3   26700      26700  1482393   \n3             1 -122.334803  47.604803         4    1144       1144  3503937   \n4             2 -122.306426  47.545739         5   17700      17700  1807429   \n\n    STATUS      ADDRTYPE   INTKEY  ... ROADCOND                LIGHTCOND  \\\n0  Matched  Intersection  37475.0  ...      Wet                 Daylight   \n1  Matched         Block      NaN  ...      Wet  Dark - Street Lights On   \n2  Matched         Block      NaN  ...      Dry                 Daylight   \n3  Matched         Block      NaN  ...      Dry                 Daylight   \n4  Matched  Intersection  34387.0  ...      Wet                 Daylight   \n\n  PEDROWNOTGRNT  SDOTCOLNUM SPEEDING ST_COLCODE  \\\n0           NaN         NaN      NaN         10   \n1           NaN   6354039.0      NaN         11   \n2           NaN   4323031.0      NaN         32   \n3           NaN         NaN      NaN         23   \n4           NaN   4028032.0      NaN         10   \n\n                                          ST_COLDESC  SEGLANEKEY  \\\n0                                  Entering at angle           0   \n1  From same direction - both going straight - bo...           0   \n2                             One parked--one moving           0   \n3                   From same direction - all others           0   \n4                                  Entering at angle           0   \n\n   CROSSWALKKEY  HITPARKEDCAR  \n0             0             N  \n1             0             N  \n2             0             N  \n3             0             N  \n4             0             N  \n\n[5 rows x 38 columns]"
                    },
                    "execution_count": 77,
                    "metadata": {},
                    "output_type": "execute_result"
                }
            ],
            "source": "df.head()"
        },
        {
            "cell_type": "markdown",
            "metadata": {},
            "source": "### 02.04 Data Pre-Processing\n\nIn its original form, this data is not fit for analysis for the following reasons: \n1.\tLike mentioned above, there are quite a few columns that I will not use for this model.\n2.\tIn almost all the columns there are instances of empty values (blanks)\n3.\tA label encoding process is in place. Most of the features are of type object when they should be category type and have additional column added for each with matching numerical values.\n4.\tData is not balanced.\n5.\tData is not normalized.\n6.\tData needs to be split into Train Data and Test Data.\n\nLet us go over each of the reasons below and see how I managed to resolve them.\n"
        },
        {
            "cell_type": "markdown",
            "metadata": {},
            "source": "### 02.04.1\tRemoving unnecessary columns\n\nAs mentioned previously, we need to take out columns that are either:\n\n- Not useful (such as EXCEPTRSNCODE or EXCEPTRSNDESC)\n\n- We cannot get information from (such as Speeding where the values are either blank or Y and we cannot know from the blanks whether the info is missing, or the value should be 'N')\n"
        },
        {
            "cell_type": "code",
            "execution_count": 78,
            "metadata": {},
            "outputs": [
                {
                    "data": {
                        "text/html": "<div>\n<style scoped>\n    .dataframe tbody tr th:only-of-type {\n        vertical-align: middle;\n    }\n\n    .dataframe tbody tr th {\n        vertical-align: top;\n    }\n\n    .dataframe thead th {\n        text-align: right;\n    }\n</style>\n<table border=\"1\" class=\"dataframe\">\n  <thead>\n    <tr style=\"text-align: right;\">\n      <th></th>\n      <th>ADDRTYPE</th>\n      <th>SEVERITYCODE</th>\n      <th>COLLISIONTYPE</th>\n      <th>PERSONCOUNT</th>\n      <th>PEDCOUNT</th>\n      <th>PEDCYLCOUNT</th>\n      <th>VEHCOUNT</th>\n      <th>JUNCTIONTYPE</th>\n      <th>UNDERINFL</th>\n      <th>WEATHER</th>\n      <th>ROADCOND</th>\n      <th>LIGHTCOND</th>\n      <th>HITPARKEDCAR</th>\n    </tr>\n  </thead>\n  <tbody>\n    <tr>\n      <th>0</th>\n      <td>Intersection</td>\n      <td>2</td>\n      <td>Angles</td>\n      <td>2</td>\n      <td>0</td>\n      <td>0</td>\n      <td>2</td>\n      <td>At Intersection (intersection related)</td>\n      <td>N</td>\n      <td>Overcast</td>\n      <td>Wet</td>\n      <td>Daylight</td>\n      <td>N</td>\n    </tr>\n    <tr>\n      <th>1</th>\n      <td>Block</td>\n      <td>1</td>\n      <td>Sideswipe</td>\n      <td>2</td>\n      <td>0</td>\n      <td>0</td>\n      <td>2</td>\n      <td>Mid-Block (not related to intersection)</td>\n      <td>0</td>\n      <td>Raining</td>\n      <td>Wet</td>\n      <td>Dark - Street Lights On</td>\n      <td>N</td>\n    </tr>\n    <tr>\n      <th>2</th>\n      <td>Block</td>\n      <td>1</td>\n      <td>Parked Car</td>\n      <td>4</td>\n      <td>0</td>\n      <td>0</td>\n      <td>3</td>\n      <td>Mid-Block (not related to intersection)</td>\n      <td>0</td>\n      <td>Overcast</td>\n      <td>Dry</td>\n      <td>Daylight</td>\n      <td>N</td>\n    </tr>\n    <tr>\n      <th>3</th>\n      <td>Block</td>\n      <td>1</td>\n      <td>Other</td>\n      <td>3</td>\n      <td>0</td>\n      <td>0</td>\n      <td>3</td>\n      <td>Mid-Block (not related to intersection)</td>\n      <td>N</td>\n      <td>Clear</td>\n      <td>Dry</td>\n      <td>Daylight</td>\n      <td>N</td>\n    </tr>\n    <tr>\n      <th>4</th>\n      <td>Intersection</td>\n      <td>2</td>\n      <td>Angles</td>\n      <td>2</td>\n      <td>0</td>\n      <td>0</td>\n      <td>2</td>\n      <td>At Intersection (intersection related)</td>\n      <td>0</td>\n      <td>Raining</td>\n      <td>Wet</td>\n      <td>Daylight</td>\n      <td>N</td>\n    </tr>\n  </tbody>\n</table>\n</div>",
                        "text/plain": "       ADDRTYPE  SEVERITYCODE COLLISIONTYPE  PERSONCOUNT  PEDCOUNT  \\\n0  Intersection             2        Angles            2         0   \n1         Block             1     Sideswipe            2         0   \n2         Block             1    Parked Car            4         0   \n3         Block             1         Other            3         0   \n4  Intersection             2        Angles            2         0   \n\n   PEDCYLCOUNT  VEHCOUNT                             JUNCTIONTYPE UNDERINFL  \\\n0            0         2   At Intersection (intersection related)         N   \n1            0         2  Mid-Block (not related to intersection)         0   \n2            0         3  Mid-Block (not related to intersection)         0   \n3            0         3  Mid-Block (not related to intersection)         N   \n4            0         2   At Intersection (intersection related)         0   \n\n    WEATHER ROADCOND                LIGHTCOND HITPARKEDCAR  \n0  Overcast      Wet                 Daylight            N  \n1   Raining      Wet  Dark - Street Lights On            N  \n2  Overcast      Dry                 Daylight            N  \n3     Clear      Dry                 Daylight            N  \n4   Raining      Wet                 Daylight            N  "
                    },
                    "execution_count": 78,
                    "metadata": {},
                    "output_type": "execute_result"
                }
            ],
            "source": "col_df = df[['ADDRTYPE', 'SEVERITYCODE', 'COLLISIONTYPE', 'PERSONCOUNT', 'PEDCOUNT', 'PEDCYLCOUNT', 'VEHCOUNT',\n             'JUNCTIONTYPE', 'UNDERINFL', 'WEATHER', 'ROADCOND', 'LIGHTCOND', 'HITPARKEDCAR']]\ncol_df.head()"
        },
        {
            "cell_type": "markdown",
            "metadata": {},
            "source": "### 02.04.2\tRemoving records with empty data\n\nTaking down lines with null values in each column:\n"
        },
        {
            "cell_type": "code",
            "execution_count": 80,
            "metadata": {},
            "outputs": [],
            "source": "col_df.replace('', np.nan, inplace=True)\ncol_df = col_df.dropna()"
        },
        {
            "cell_type": "markdown",
            "metadata": {},
            "source": "### 02.04.3\tLabel Encoding\n\nWe must use label encoding to covert the features to our desired data type.\n\nThe label encoding here is done in two approaches (each on different fields): \n\na.\tThe fields: UNDERINFL, HITPARKEDCAR and SEVERITYCODE\n    \n    The UNDERINFL column has values of \u20180\u2019, \u20181\u2019, \u2018Y\u2019 and \u2018N\u2019. Change all \u2018Y\u2019 and \u2018N\u2019 to \u20181\u2019 and \u20180\u2019 respectively. \n    While we are at it, the HITPARKEDCAR column has values of \u2018Y\u2019 and \u2018N\u2019. Change them to \u20181\u2019 and \u20180\u2019 (respectively).\n"
        },
        {
            "cell_type": "code",
            "execution_count": 81,
            "metadata": {},
            "outputs": [],
            "source": "col_df = col_df.replace({'UNDERINFL': {'N': '0', 'Y': '1'}})\ncol_df = col_df.replace({'HITPARKEDCAR': {'N': '0', 'Y': '1'}})"
        },
        {
            "cell_type": "markdown",
            "metadata": {},
            "source": "Changing the SEVERITYCODE, UNDERINFL and HITPARKEDCAR columns from type object to type int"
        },
        {
            "cell_type": "code",
            "execution_count": 82,
            "metadata": {},
            "outputs": [],
            "source": "col_df['SEVERITYCODE'] = col_df['SEVERITYCODE'].astype('int')\ncol_df['UNDERINFL'] = col_df['UNDERINFL'].astype('int')\ncol_df['HITPARKEDCAR'] = col_df['HITPARKEDCAR'].astype('int')"
        },
        {
            "cell_type": "markdown",
            "metadata": {},
            "source": "b.\tThe fields: \u2018ADDRTYPE\u2019, COLLISONTYPE\u2019, \u2018JUNCTIONTYPE\u2019, \u2018WEATHER\u2019, \u2018ROADCOND\u2019, \u2018LIGHTCOND\u2019\n\n    For each of those fields, create a white list of the values that we want to keep (excluding values like \u2018Other\u2019 or \u2018Unknown\u2019). \n    Convert the columns to type category and add another column to the data-frame that would have the numerical value of the category field assigned.\n"
        },
        {
            "cell_type": "code",
            "execution_count": 83,
            "metadata": {},
            "outputs": [],
            "source": "working_dict = {}\nworking_dict[\"ADDRTYPE\"] = [['Alley', 'Block', 'Intersection'], \"ADDRTYPE_CAT\"]\nworking_dict[\"COLLISIONTYPE\"] = [['Angles', 'Cycles', 'Head On', 'Left Turn', 'Parked Car', 'Pedestrian', 'Rear Ended', 'Right Turn', 'Sideswipe'], \"COLLISIONTYPE_CAT\"]\nworking_dict[\"JUNCTIONTYPE\"] = [['At Intersection (but not related to intersection)', 'At Intersection (intersection related)', 'Driveway Junction', 'Mid-Block (but intersection related)', 'Mid-Block (not related to intersection)', 'Ramp Junction'], \"JUNCTIONTYPE_CAT\"]\nworking_dict[\"WEATHER\"] = [['Blowing Sand/Dirt', 'Clear', 'Fog/Smog/Smoke', 'Overcast', 'Partly Cloudy', 'Raining',\n'Severe Crosswind', 'Sleet/Hail/Freezing Rain', 'Snowing'], \"WEATHER_CAT\"]\nworking_dict[\"ROADCOND\"] = [['Dry', 'Ice', 'Oil', 'Sand/Mud/Dirt', 'Snow/Slush', 'Standing Water', 'Wet'],\n\"ROADCOND_CAT\"]\nworking_dict[\"LIGHTCOND\"] = [['Dark - No Street Lights', 'Dark - Street Lights Off', 'Dark - Street Lights On', 'Dawn',\n'Daylight', 'Dusk'], \"LIGHTCOND_CAT\"]\nfor k in working_dict:\n    # Keep only required category values (i.e.: no Unknowns or Others)\n    col_df = col_df[col_df[k].isin(working_dict[k][0])]\n    # Converting column type to 'category'\n    col_df[k] = col_df[k].astype('category')\n    # Assigning numerical values and storing in another column\n    col_df[working_dict[k][1]] = col_df[k].cat.codes"
        },
        {
            "cell_type": "markdown",
            "metadata": {},
            "source": "Let us see how the data-frame (head) looks after the label encoding"
        },
        {
            "cell_type": "code",
            "execution_count": 84,
            "metadata": {},
            "outputs": [
                {
                    "data": {
                        "text/html": "<div>\n<style scoped>\n    .dataframe tbody tr th:only-of-type {\n        vertical-align: middle;\n    }\n\n    .dataframe tbody tr th {\n        vertical-align: top;\n    }\n\n    .dataframe thead th {\n        text-align: right;\n    }\n</style>\n<table border=\"1\" class=\"dataframe\">\n  <thead>\n    <tr style=\"text-align: right;\">\n      <th></th>\n      <th>SEVERITYCODE</th>\n      <th>ADDRTYPE</th>\n      <th>COLLISIONTYPE</th>\n      <th>JUNCTIONTYPE</th>\n      <th>UNDERINFL</th>\n      <th>HITPARKEDCAR</th>\n      <th>WEATHER</th>\n      <th>ROADCOND</th>\n      <th>LIGHTCOND</th>\n      <th>ADDRTYPE_CAT</th>\n      <th>COLLISIONTYPE_CAT</th>\n      <th>JUNCTIONTYPE_CAT</th>\n      <th>WEATHER_CAT</th>\n      <th>ROADCOND_CAT</th>\n      <th>LIGHTCOND_CAT</th>\n    </tr>\n  </thead>\n  <tbody>\n    <tr>\n      <th>0</th>\n      <td>2</td>\n      <td>Intersection</td>\n      <td>Angles</td>\n      <td>At Intersection (intersection related)</td>\n      <td>0</td>\n      <td>0</td>\n      <td>Overcast</td>\n      <td>Wet</td>\n      <td>Daylight</td>\n      <td>2</td>\n      <td>0</td>\n      <td>1</td>\n      <td>3</td>\n      <td>6</td>\n      <td>4</td>\n    </tr>\n    <tr>\n      <th>1</th>\n      <td>1</td>\n      <td>Block</td>\n      <td>Sideswipe</td>\n      <td>Mid-Block (not related to intersection)</td>\n      <td>0</td>\n      <td>0</td>\n      <td>Raining</td>\n      <td>Wet</td>\n      <td>Dark - Street Lights On</td>\n      <td>1</td>\n      <td>8</td>\n      <td>4</td>\n      <td>5</td>\n      <td>6</td>\n      <td>2</td>\n    </tr>\n    <tr>\n      <th>2</th>\n      <td>1</td>\n      <td>Block</td>\n      <td>Parked Car</td>\n      <td>Mid-Block (not related to intersection)</td>\n      <td>0</td>\n      <td>0</td>\n      <td>Overcast</td>\n      <td>Dry</td>\n      <td>Daylight</td>\n      <td>1</td>\n      <td>4</td>\n      <td>4</td>\n      <td>3</td>\n      <td>0</td>\n      <td>4</td>\n    </tr>\n    <tr>\n      <th>4</th>\n      <td>2</td>\n      <td>Intersection</td>\n      <td>Angles</td>\n      <td>At Intersection (intersection related)</td>\n      <td>0</td>\n      <td>0</td>\n      <td>Raining</td>\n      <td>Wet</td>\n      <td>Daylight</td>\n      <td>2</td>\n      <td>0</td>\n      <td>1</td>\n      <td>5</td>\n      <td>6</td>\n      <td>4</td>\n    </tr>\n    <tr>\n      <th>5</th>\n      <td>1</td>\n      <td>Intersection</td>\n      <td>Angles</td>\n      <td>At Intersection (intersection related)</td>\n      <td>0</td>\n      <td>0</td>\n      <td>Clear</td>\n      <td>Dry</td>\n      <td>Daylight</td>\n      <td>2</td>\n      <td>0</td>\n      <td>1</td>\n      <td>1</td>\n      <td>0</td>\n      <td>4</td>\n    </tr>\n  </tbody>\n</table>\n</div>",
                        "text/plain": "   SEVERITYCODE      ADDRTYPE COLLISIONTYPE  \\\n0             2  Intersection        Angles   \n1             1         Block     Sideswipe   \n2             1         Block    Parked Car   \n4             2  Intersection        Angles   \n5             1  Intersection        Angles   \n\n                              JUNCTIONTYPE  UNDERINFL  HITPARKEDCAR   WEATHER  \\\n0   At Intersection (intersection related)          0             0  Overcast   \n1  Mid-Block (not related to intersection)          0             0   Raining   \n2  Mid-Block (not related to intersection)          0             0  Overcast   \n4   At Intersection (intersection related)          0             0   Raining   \n5   At Intersection (intersection related)          0             0     Clear   \n\n  ROADCOND                LIGHTCOND  ADDRTYPE_CAT  COLLISIONTYPE_CAT  \\\n0      Wet                 Daylight             2                  0   \n1      Wet  Dark - Street Lights On             1                  8   \n2      Dry                 Daylight             1                  4   \n4      Wet                 Daylight             2                  0   \n5      Dry                 Daylight             2                  0   \n\n   JUNCTIONTYPE_CAT  WEATHER_CAT  ROADCOND_CAT  LIGHTCOND_CAT  \n0                 1            3             6              4  \n1                 4            5             6              2  \n2                 4            3             0              4  \n4                 1            5             6              4  \n5                 1            1             0              4  "
                    },
                    "execution_count": 84,
                    "metadata": {},
                    "output_type": "execute_result"
                }
            ],
            "source": "col_df[['SEVERITYCODE', 'ADDRTYPE', 'COLLISIONTYPE', 'JUNCTIONTYPE', 'UNDERINFL', 'HITPARKEDCAR', 'WEATHER', 'ROADCOND', 'LIGHTCOND', 'ADDRTYPE_CAT', 'COLLISIONTYPE_CAT', \n        'JUNCTIONTYPE_CAT', 'WEATHER_CAT', 'ROADCOND_CAT', 'LIGHTCOND_CAT']].head()"
        },
        {
            "cell_type": "markdown",
            "metadata": {},
            "source": "With the new columns, we can now use this data in our analysis and Machine Learner models (Part of Week-2)"
        },
        {
            "cell_type": "markdown",
            "metadata": {},
            "source": "### 02.04.4\tBalancing the data\n\nFirst let us discover how many different values in SEVERITYCODE (our target) field and the number of records in each value\n"
        },
        {
            "cell_type": "code",
            "execution_count": 85,
            "metadata": {},
            "outputs": [
                {
                    "data": {
                        "text/plain": "1    95918\n2    49445\nName: SEVERITYCODE, dtype: int64"
                    },
                    "execution_count": 85,
                    "metadata": {},
                    "output_type": "execute_result"
                }
            ],
            "source": "col_df['SEVERITYCODE'].value_counts()"
        },
        {
            "cell_type": "markdown",
            "metadata": {},
            "source": "As we can see, there are two values in total: \n-\t1's (Property Damage Only Collision)\n-\t2's (Injury Collision)\n\nThe number of values with SEVERITYCODE=1 is: 95,918 while the number of values with SEVERITYCODE=2 is 49,445\nThat is close to a 1:2 ratio (1:1.94). \n\nLet us down-sample the majority class to be equal with the minority class.\n"
        },
        {
            "cell_type": "code",
            "execution_count": 86,
            "metadata": {},
            "outputs": [],
            "source": "# Separate majority and minority classes\ndf_majority = col_df[col_df.SEVERITYCODE == 1]\ndf_minority = col_df[col_df.SEVERITYCODE == 2]\n# Down-sample majority class\ndf_majority_downsampled = resample(df_majority,\n                                   replace=False,     # sample without replacement\n                                   n_samples=49445,   # to match minority class \n                                   random_state=123)  # reproducible results \n# Combine minority class with down-sampled majority class\ndf_downsampled = pd.concat([df_majority_downsampled, df_minority])\n"
        },
        {
            "cell_type": "markdown",
            "metadata": {},
            "source": "Let us now see whether the data is balanced or not:"
        },
        {
            "cell_type": "code",
            "execution_count": 87,
            "metadata": {},
            "outputs": [
                {
                    "data": {
                        "text/plain": "2    49445\n1    49445\nName: SEVERITYCODE, dtype: int64"
                    },
                    "execution_count": 87,
                    "metadata": {},
                    "output_type": "execute_result"
                }
            ],
            "source": "df_downsampled['SEVERITYCODE'].value_counts()"
        },
        {
            "cell_type": "markdown",
            "metadata": {},
            "source": "Now the dataset is beautifully balanced.\n\nLet us discover how many rows and columns are in this dataset in total:"
        },
        {
            "cell_type": "code",
            "execution_count": 88,
            "metadata": {},
            "outputs": [
                {
                    "data": {
                        "text/plain": "(98890, 19)"
                    },
                    "execution_count": 88,
                    "metadata": {},
                    "output_type": "execute_result"
                }
            ],
            "source": "df_downsampled.shape"
        },
        {
            "cell_type": "markdown",
            "metadata": {},
            "source": "Let us see what the name of columns and their type are:"
        },
        {
            "cell_type": "code",
            "execution_count": 89,
            "metadata": {},
            "outputs": [
                {
                    "name": "stdout",
                    "output_type": "stream",
                    "text": "<class 'pandas.core.frame.DataFrame'>\nInt64Index: 98890 entries, 66075 to 194671\nData columns (total 19 columns):\nADDRTYPE             98890 non-null category\nSEVERITYCODE         98890 non-null int64\nCOLLISIONTYPE        98890 non-null category\nPERSONCOUNT          98890 non-null int64\nPEDCOUNT             98890 non-null int64\nPEDCYLCOUNT          98890 non-null int64\nVEHCOUNT             98890 non-null int64\nJUNCTIONTYPE         98890 non-null category\nUNDERINFL            98890 non-null int64\nWEATHER              98890 non-null category\nROADCOND             98890 non-null category\nLIGHTCOND            98890 non-null category\nHITPARKEDCAR         98890 non-null int64\nADDRTYPE_CAT         98890 non-null int8\nCOLLISIONTYPE_CAT    98890 non-null int8\nJUNCTIONTYPE_CAT     98890 non-null int8\nWEATHER_CAT          98890 non-null int8\nROADCOND_CAT         98890 non-null int8\nLIGHTCOND_CAT        98890 non-null int8\ndtypes: category(6), int64(7), int8(6)\nmemory usage: 7.2 MB\n"
                }
            ],
            "source": "df_downsampled.info()"
        },
        {
            "cell_type": "markdown",
            "metadata": {},
            "source": "Notice above the category value vs the newly added columns int value.\n\nFrom this point onwards, we will only use the new columns for our analysis."
        },
        {
            "cell_type": "markdown",
            "metadata": {},
            "source": "### 02.04.5\tDefine the Feature Set\n\nTo use scikit-learn library, we must convert the Pandas data frame to a Numpy array."
        },
        {
            "cell_type": "code",
            "execution_count": 90,
            "metadata": {},
            "outputs": [],
            "source": "X = df_downsampled[['ADDRTYPE_CAT', 'COLLISIONTYPE_CAT', 'PERSONCOUNT', 'PEDCOUNT', 'PEDCYLCOUNT', 'VEHCOUNT',\n                    'JUNCTIONTYPE_CAT', 'UNDERINFL', 'WEATHER_CAT', 'ROADCOND_CAT', 'LIGHTCOND_CAT',\n                    'HITPARKEDCAR']].values"
        },
        {
            "cell_type": "markdown",
            "metadata": {},
            "source": "Display head of the features set (before normalization):"
        },
        {
            "cell_type": "code",
            "execution_count": 91,
            "metadata": {},
            "outputs": [
                {
                    "data": {
                        "text/plain": "array([[1, 6, 2, 0, 0, 2, 3, 0, 1, 0, 4, 0],\n       [2, 8, 3, 0, 0, 2, 1, 0, 1, 0, 4, 0],\n       [1, 4, 2, 0, 0, 2, 4, 0, 5, 1, 2, 0],\n       [1, 6, 3, 0, 0, 3, 3, 0, 5, 6, 4, 0],\n       [1, 8, 2, 0, 0, 2, 4, 0, 1, 0, 4, 0]])"
                    },
                    "execution_count": 91,
                    "metadata": {},
                    "output_type": "execute_result"
                }
            ],
            "source": "X[0:5]"
        },
        {
            "cell_type": "markdown",
            "metadata": {},
            "source": "Define label (target) set:"
        },
        {
            "cell_type": "code",
            "execution_count": 92,
            "metadata": {},
            "outputs": [],
            "source": "y = df_downsampled['SEVERITYCODE'].values"
        },
        {
            "cell_type": "markdown",
            "metadata": {},
            "source": "Display head of the label (target) set:"
        },
        {
            "cell_type": "code",
            "execution_count": 93,
            "metadata": {},
            "outputs": [
                {
                    "data": {
                        "text/plain": "array([1, 1, 1, 1, 1])"
                    },
                    "execution_count": 93,
                    "metadata": {},
                    "output_type": "execute_result"
                }
            ],
            "source": "y[0:5]"
        },
        {
            "cell_type": "markdown",
            "metadata": {},
            "source": "### 02.04.6\tNormalizing the data\n\nData Standardization give data zero mean and unit variance, it is good practice, especially for algorithms such as KNN which is based on distance of cases."
        },
        {
            "cell_type": "code",
            "execution_count": 94,
            "metadata": {},
            "outputs": [
                {
                    "name": "stderr",
                    "output_type": "stream",
                    "text": "/opt/conda/envs/Python36/lib/python3.6/site-packages/sklearn/utils/validation.py:595: DataConversionWarning: Data with input dtype int64 was converted to float64 by StandardScaler.\n  warnings.warn(msg, DataConversionWarning)\n"
                }
            ],
            "source": "X = preprocessing.StandardScaler().fit(X).transform(X.astype(float))"
        },
        {
            "cell_type": "markdown",
            "metadata": {},
            "source": "Display head of the features set (after normalization):"
        },
        {
            "cell_type": "code",
            "execution_count": 95,
            "metadata": {},
            "outputs": [
                {
                    "data": {
                        "text/plain": "array([[-0.85876841,  0.83441066, -0.4709329 , -0.25259959, -0.22821246,\n        -0.05122548,  0.35782358, -0.22074884, -0.67431245, -0.6105998 ,\n         0.55116918, -0.15978737],\n       [ 1.15870695,  1.58085096,  0.23185974, -0.25259959, -0.22821246,\n        -0.05122548, -1.07107215, -0.22074884, -0.67431245, -0.6105998 ,\n         0.55116918, -0.15978737],\n       [-0.85876841,  0.08797036, -0.4709329 , -0.25259959, -0.22821246,\n        -0.05122548,  1.07227144, -0.22074884,  1.78523953, -0.23362798,\n        -1.50706469, -0.15978737],\n       [-0.85876841,  0.83441066,  0.23185974, -0.25259959, -0.22821246,\n         1.66945662,  0.35782358, -0.22074884,  1.78523953,  1.65123107,\n         0.55116918, -0.15978737],\n       [-0.85876841,  1.58085096, -0.4709329 , -0.25259959, -0.22821246,\n        -0.05122548,  1.07227144, -0.22074884, -0.67431245, -0.6105998 ,\n         0.55116918, -0.15978737]])"
                    },
                    "execution_count": 95,
                    "metadata": {},
                    "output_type": "execute_result"
                }
            ],
            "source": "X[0:5]"
        },
        {
            "cell_type": "markdown",
            "metadata": {},
            "source": "### 02.04.7\tSplit the data (into: Train/Test Sets)\n\nOut of Sample Accuracy is the percentage of correct predictions that the model makes on data that that the model has NOT been trained on. \n\nDoing a train and test on the same dataset will most likely have low out-of-sample accuracy, due to the likelihood of being over-fit.\n\nIt is important that our models have a high, out-of-sample accuracy, because the purpose of any model, of course, is to make correct predictions on unknown data. \n\nSo how can we improve out-of-sample accuracy?\n\nOne way is to use an evaluation approach called Train/Test Split.\n\nTrain/Test Split involves splitting the dataset into training and testing sets respectively, which are mutually exclusive. \n\nAfter which, you train with the training set and test with the testing set.\n\nThis will provide a more accurate evaluation on out-of-sample accuracy because the testing dataset is not part of the dataset that have been used to train the data. \n\nIt is more realistic for real world problems.\n"
        },
        {
            "cell_type": "code",
            "execution_count": 96,
            "metadata": {},
            "outputs": [],
            "source": "X_train, X_test, y_train, y_test = train_test_split(X, y, test_size=0.2, random_state=4)"
        },
        {
            "cell_type": "markdown",
            "metadata": {},
            "source": "Display the dimensions (shape) of the Train/Test sets:"
        },
        {
            "cell_type": "code",
            "execution_count": 97,
            "metadata": {},
            "outputs": [
                {
                    "name": "stdout",
                    "output_type": "stream",
                    "text": "Train set shape: (79112, 12) (79112,)\nTest set shape: (19778, 12) (19778,)\n"
                }
            ],
            "source": "print('Train set shape:', X_train.shape,  y_train.shape)\nprint('Test set shape:', X_test.shape,  y_test.shape)"
        },
        {
            "cell_type": "code",
            "execution_count": null,
            "metadata": {},
            "outputs": [],
            "source": ""
        }
    ],
    "metadata": {
        "kernelspec": {
            "display_name": "Python 3.6",
            "language": "python",
            "name": "python3"
        },
        "language_info": {
            "codemirror_mode": {
                "name": "ipython",
                "version": 3
            },
            "file_extension": ".py",
            "mimetype": "text/x-python",
            "name": "python",
            "nbconvert_exporter": "python",
            "pygments_lexer": "ipython3",
            "version": "3.6.9"
        }
    },
    "nbformat": 4,
    "nbformat_minor": 1
}